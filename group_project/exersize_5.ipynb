{
 "cells": [
  {
   "cell_type": "code",
   "execution_count": null,
   "metadata": {},
   "outputs": [],
   "source": [
    "import numpy as np\n",
    "import pandas as pd\n",
    "\n",
    "# Example DataFrame\n",
    "np.random.seed(42)  # For reproducibility\n",
    "df = pd.read_excel('logement_etudiants_realiste.xlsx')\n",
    "\n",
    "# Calculate mean and standard deviation\n",
    "mean_dist = df['Distance from University'].mean()\n",
    "std_dist = df['Distance from University'].std()\n",
    "\n",
    "# Add Gaussian noise (keeping mean & variance similar)\n",
    "noise = np.random.normal(loc=0, scale=std_dist * 0.1, size=len(df))  # 10% of standard deviation as noise\n",
    "df['Distance from University'] = (df['Distance from University'] + noise).astype(int)\n",
    "\n",
    "# Ensure no negative values\n",
    "df['Distance from University'] = df['Distance from University'].clip(lower=0)\n",
    "df.to_excel('logement_etudiants_realiste_with_noise.xlsx', index=False)\n",
    "df.head()"
   ]
  }
 ],
 "metadata": {
  "kernelspec": {
   "display_name": "tbs",
   "language": "python",
   "name": "python3"
  },
  "language_info": {
   "codemirror_mode": {
    "name": "ipython",
    "version": 3
   },
   "file_extension": ".py",
   "mimetype": "text/x-python",
   "name": "python",
   "nbconvert_exporter": "python",
   "pygments_lexer": "ipython3",
   "version": "3.10.14"
  }
 },
 "nbformat": 4,
 "nbformat_minor": 2
}
